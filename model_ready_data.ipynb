{
 "cells": [
  {
   "cell_type": "code",
   "execution_count": 20,
   "id": "c4d52d53",
   "metadata": {},
   "outputs": [],
   "source": [
    "import pandas as pd\n",
    "import numpy as np\n",
    "import warnings\n",
    "warnings.filterwarnings('ignore')"
   ]
  },
  {
   "cell_type": "code",
   "execution_count": 43,
   "id": "eb417905",
   "metadata": {},
   "outputs": [],
   "source": [
    "train_data = pd.read_csv('final_train.csv')\n",
    "test_data= pd.read_csv('final_test1.csv')"
   ]
  },
  {
   "cell_type": "code",
   "execution_count": 44,
   "id": "5806bc1a",
   "metadata": {},
   "outputs": [
    {
     "data": {
      "text/plain": [
       "((948, 84), (271, 82))"
      ]
     },
     "execution_count": 44,
     "metadata": {},
     "output_type": "execute_result"
    }
   ],
   "source": [
    "train_data.shape, test_data.shape"
   ]
  },
  {
   "cell_type": "code",
   "execution_count": 45,
   "id": "66ade43e",
   "metadata": {},
   "outputs": [],
   "source": [
    "train_data['winner_01'] = train_data.apply(lambda x: 1 if (x['team2']==x['winner']) else 0, axis=1)"
   ]
  },
  {
   "cell_type": "code",
   "execution_count": 46,
   "id": "9d5be822",
   "metadata": {},
   "outputs": [],
   "source": [
    "train_data['toss_winner_01'] = np.where(train_data['toss winner']==train_data['team2'], 1, 0)\n",
    "test_data['toss_winner_01'] = np.where(test_data['toss winner']==test_data['team2'], 1, 0)"
   ]
  },
  {
   "cell_type": "code",
   "execution_count": 47,
   "id": "77b4cc48",
   "metadata": {},
   "outputs": [],
   "source": [
    "train_data['toss_decision_01'] = np.where(train_data['toss decision']=='bat', 1, 0)\n",
    "test_data['toss_decision_01'] = np.where(test_data['toss decision']=='bat', 1, 0)"
   ]
  },
  {
   "cell_type": "code",
   "execution_count": 48,
   "id": "bdf33b1b",
   "metadata": {},
   "outputs": [],
   "source": [
    "selected= [ 'ground_avg_runs_last15', \n",
    "        \n",
    "       'team1_avgruns_overall', 'team1_avgruns_rolling',\n",
    "       'team1_avgruns_season', 'team1_avgruns_series', \n",
    "       'team1_nrr_last10', 'team1_nrr_overall', 'team1_nrr_season',\n",
    "       'team1_nrr_series',  'team1_run_rate_last10',\n",
    "       'team1_run_rate_overall', 'team1_run_rate_season',\n",
    "       'team1_run_rate_series', 'team1_rwratio_overall',\n",
    "       'team1_rwratio_rolling', 'team1_rwratio_season', 'team1_rwratio_series',\n",
    "       'team1_victory_by_runs_overall', 'team1_victory_by_runs_rolling',\n",
    "       'team1_victory_by_runs_season', 'team1_victory_by_runs_series',\n",
    "       'team1_victory_by_wks_overall', 'team1_victory_by_wks_rolling',\n",
    "       'team1_victory_by_wks_season', 'team1_victory_by_wks_series',\n",
    "       'team1_win_percent_overall', 'team1_win_percent_rolling',\n",
    "       'team1_win_percent_season', 'team1_win_percent_series',\n",
    "       'team1_winp_team2_last15', 'team1only_avg_runs_last15', \n",
    "       'team2_avgwks_overall', 'team2_avgwks_rolling', 'team2_avgwks_season',\n",
    "       'team2_avgwks_series',  'team2_nrr_last10',\n",
    "       'team2_nrr_overall', 'team2_nrr_season', 'team2_nrr_series',\n",
    "        'team2_run_rate_last10', 'team2_run_rate_overall',\n",
    "       'team2_run_rate_season', 'team2_run_rate_series',\n",
    "       'team2_rwratio_overall', 'team2_rwratio_rolling',\n",
    "       'team2_rwratio_season', 'team2_rwratio_series',\n",
    "       'team2_victory_by_runs_overall', 'team2_victory_by_runs_rolling',\n",
    "       'team2_victory_by_runs_season', 'team2_victory_by_runs_series',\n",
    "       'team2_victory_by_wks_overall', 'team2_victory_by_wks_rolling',\n",
    "       'team2_victory_by_wks_season', 'team2_victory_by_wks_series',\n",
    "       'team2_win_percent_overall', 'team2_win_percent_rolling',\n",
    "       'team2_win_percent_season', 'team2_win_percent_series',\n",
    "       'team_boundary_ratios', 'team_count_50runs_last15', 'team_econ_ratios',\n",
    "       'team_haul3w_ratios', 'team_strike_ratios', 'team_winp_last5',\n",
    "       \n",
    "        'toss_winner_01', 'toss_decision_01']"
   ]
  },
  {
   "cell_type": "code",
   "execution_count": 49,
   "id": "8771495e",
   "metadata": {},
   "outputs": [],
   "source": [
    "X,y = train_data[selected], train_data['winner_01']"
   ]
  },
  {
   "cell_type": "code",
   "execution_count": 50,
   "id": "10e067f7",
   "metadata": {},
   "outputs": [],
   "source": [
    "X_test = test_data[X.columns.tolist()]"
   ]
  },
  {
   "cell_type": "code",
   "execution_count": 54,
   "id": "6bd86fec",
   "metadata": {},
   "outputs": [],
   "source": [
    "X.fillna(0, inplace=True)\n",
    "X_test.fillna(0, inplace=True)"
   ]
  },
  {
   "cell_type": "code",
   "execution_count": 55,
   "id": "8ca9fbbe",
   "metadata": {},
   "outputs": [],
   "source": [
    "X.to_csv('trainx.csv', index= False)\n",
    "X_test.to_csv('testx.csv', index= False)\n",
    "y.to_csv('trainy.csv', index= False)"
   ]
  },
  {
   "cell_type": "code",
   "execution_count": 56,
   "id": "8091f347",
   "metadata": {},
   "outputs": [],
   "source": [
    "train_data.to_csv('train_data.csv', index= False)\n",
    "test_data.to_csv('test_data.csv', index= False)"
   ]
  },
  {
   "cell_type": "code",
   "execution_count": null,
   "id": "9e8e05d1",
   "metadata": {},
   "outputs": [],
   "source": []
  }
 ],
 "metadata": {
  "kernelspec": {
   "display_name": "Python 3 (ipykernel)",
   "language": "python",
   "name": "python3"
  },
  "language_info": {
   "codemirror_mode": {
    "name": "ipython",
    "version": 3
   },
   "file_extension": ".py",
   "mimetype": "text/x-python",
   "name": "python",
   "nbconvert_exporter": "python",
   "pygments_lexer": "ipython3",
   "version": "3.9.13"
  }
 },
 "nbformat": 4,
 "nbformat_minor": 5
}
